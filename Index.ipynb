{
 "metadata": {
  "name": ""
 },
 "nbformat": 3,
 "nbformat_minor": 0,
 "worksheets": [
  {
   "cells": [
    {
     "cell_type": "markdown",
     "metadata": {},
     "source": [
      "# Notebook demos for [HPC]$^3$ Workshop at KAUST, 2014\n",
      "\n",
      "Follow along at: [www.clawpack.org/hpc3_2014](http://www.clawpack.org/hpc3_2014/)\n",
      "\n",
      "## Contributors\n",
      "\n",
      " - [Randy LeVeque](https://github.com/rjleveque)\n",
      " - [David Ketcheson](https://github.com/ketch)\n",
      " - [Mauricio del Razo](https://github.com/maojrs)\n",
      " \n",
      " - [Jake Vanderplas](https://github.com/jakevdp) contributed [JSAnimation](https://github.com/jakevdp/JSAnimation) (included in VisClaw) and also developed [ipywidgets](https://github.com/jakevdp/ipywidgets) and [mpld3](https://github.com/jakevdp/mpld3).\n",
      " \n",
      "## Goals\n",
      "\n",
      "Develop more notebooks illustrating:\n",
      "\n",
      " - Exact and approximate Riemann solutions, using PyClaw or Fortran solvers\n",
      " - Setting up and solving problems with PyClaw / Fortran codes,\n",
      " - Python tools for visualization, \n",
      " - Python tools for topography, seafloor deformation, etc. in GeoClaw\n",
      " "
     ]
    },
    {
     "cell_type": "markdown",
     "metadata": {},
     "source": [
      "## Sample notebooks\n",
      "\n",
      " - [Clawpack gallery notebooks](http://www.clawpack.org/notebooks.html) -- Several of these need updating!\n",
      " - (Demo the different limiters for advection, stegotons, and the shallow water Riemann solver)\n",
      " \n",
      "The demos below are based on [clawpack/apps@ce2e5609](https://github.com/clawpack/apps/tree/ce2e5609).  These are still being developed and may change or disappear in future versions.\n",
      "\n",
      " - [Testing Riemann solvers](riemann/riemann_tester.ipynb)\n",
      " - [New version of amrclaw example](amrclaw/advection_2d_square/amrclaw_advection_2d_square.ipynb)\n",
      " \n",
      " "
     ]
    },
    {
     "cell_type": "markdown",
     "metadata": {},
     "source": [
      "## Other examples\n",
      "\n",
      " - [Plotting in the notebook](http://nbviewer.ipython.org/github/ketch/teaching-numerics-with-notebooks/blob/master/Plotting%20in%20the%20notebook.ipynb) talk by Aron Ahmadia and David Ketcheson, SciPy 2014.\n",
      " \n",
      " - [Teaching numerical methods with IPython notebooks and inquiry-based learning](https://dl.dropboxusercontent.com/u/380268/scipy_proceedings_2014/pdfs/ketcheson.pdf), paper by David Ketcheson.\n",
      " \n",
      " - [IPython notebook demo in Nature](http://www.nature.com/news/ipython-interactive-demo-7.21492) using [tempnb.org](https://tmpnb.org)\n",
      "\n",
      " - Many interesting notebooks can be found on the [nbviewer gallery](https://github.com/ipython/ipython/wiki/A-gallery-of-interesting-IPython-Notebooks).\n",
      "\n"
     ]
    }
   ],
   "metadata": {}
  }
 ]
}